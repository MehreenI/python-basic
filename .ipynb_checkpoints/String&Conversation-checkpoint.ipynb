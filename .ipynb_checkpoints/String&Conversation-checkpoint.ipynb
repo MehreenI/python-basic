{
 "cells": [
  {
   "cell_type": "markdown",
   "id": "35b6afea",
   "metadata": {},
   "source": [
    "# TYPE CONVERSATION"
   ]
  },
  {
   "cell_type": "code",
   "execution_count": null,
   "id": "cb284ecb",
   "metadata": {},
   "outputs": [],
   "source": [
    "##TYPE CONVERSATION:\n",
    "#input() function is used to take input from user by default its data type is string\n",
    "# from datetime import date\n",
    "from datetime import date\n",
    "today = date.today()\n",
    "print(today)\n"
   ]
  },
  {
   "cell_type": "code",
   "execution_count": 11,
   "id": "543809a5",
   "metadata": {},
   "outputs": [
    {
     "name": "stdout",
     "output_type": "stream",
     "text": [
      "2023\n"
     ]
    }
   ],
   "source": [
    "\n",
    "current_time = today.year\n",
    "print(current_time)"
   ]
  },
  {
   "cell_type": "code",
   "execution_count": 13,
   "id": "6d9b9f08",
   "metadata": {},
   "outputs": [
    {
     "name": "stdout",
     "output_type": "stream",
     "text": [
      "Enter Your Birth Year: 2001\n",
      "22\n"
     ]
    }
   ],
   "source": [
    "birth_year = input(\"Enter Your Birth Year: \")\n",
    "# if you directly do this it will generate an error as int and str \n",
    "# age = current_time - birth_year\n",
    "age = current_time - int(birth_year)\n",
    "\n",
    "print(age)"
   ]
  },
  {
   "cell_type": "code",
   "execution_count": 15,
   "id": "42b2fb06",
   "metadata": {},
   "outputs": [
    {
     "name": "stdout",
     "output_type": "stream",
     "text": [
      "Enter Your Birth Year: 2001\n",
      "22\n"
     ]
    }
   ],
   "source": [
    "birth_year = int(input(\"Enter Your Birth Year: \"))\n",
    "# if you directly do this it will generate an error as int and str \n",
    "age = current_time - birth_year\n",
    "# age = current_time - int(birth_year)\n",
    "\n",
    "print(age)"
   ]
  },
  {
   "cell_type": "code",
   "execution_count": 16,
   "id": "9890490e",
   "metadata": {},
   "outputs": [
    {
     "name": "stdout",
     "output_type": "stream",
     "text": [
      "<class 'int'>\n",
      "<class 'int'>\n",
      "<class 'int'>\n",
      "<class 'datetime.date'>\n"
     ]
    }
   ],
   "source": [
    "print(type(age))\n",
    "print(type(birth_year))\n",
    "print(type(current_time))\n",
    "print(type(today))"
   ]
  },
  {
   "cell_type": "code",
   "execution_count": 19,
   "id": "23609046",
   "metadata": {},
   "outputs": [
    {
     "name": "stdout",
     "output_type": "stream",
     "text": [
      "Enter your weight in pounds: 1\n",
      "your weight in kg is: 0.45\n"
     ]
    }
   ],
   "source": [
    "weight = int(input(\"Enter your weight in pounds: \"))\n",
    "kg = round(weight/2.205,2)\n",
    "# rounded_kg = round(kg,2)\n",
    "print(\"your weight in kg is: \" +str(kg))"
   ]
  },
  {
   "cell_type": "markdown",
   "id": "8f89054d",
   "metadata": {},
   "source": [
    "# STRING"
   ]
  },
  {
   "cell_type": "code",
   "execution_count": 20,
   "id": "2fe2d6c1",
   "metadata": {},
   "outputs": [
    {
     "name": "stdout",
     "output_type": "stream",
     "text": [
      "python for beginners\n"
     ]
    }
   ],
   "source": [
    "course = \"python for beginners\"\n",
    "print(course)"
   ]
  },
  {
   "cell_type": "code",
   "execution_count": null,
   "id": "dadb4c3d",
   "metadata": {},
   "outputs": [],
   "source": [
    "# multi line string \"\"\" \"\"\" --> use for comment ''' '''-->use for multi line string\n",
    "\n",
    "des = '''\n",
    "hi sana, mehreen here\n",
    "hope you are doing well\n",
    "'''\n",
    "print(des)"
   ]
  },
  {
   "cell_type": "code",
   "execution_count": 27,
   "id": "231c9068",
   "metadata": {},
   "outputs": [
    {
     "name": "stdout",
     "output_type": "stream",
     "text": [
      "20\n",
      "t\n",
      "s\n",
      "pyt\n",
      "hon for beginners\n",
      "python f\n"
     ]
    }
   ],
   "source": [
    "# course = \"python for beginners\"\n",
    "# length of strings\n",
    "\n",
    "print(len(course)) # --> 20\n",
    "# Triming\n",
    "print(course[2]) # --->t\n",
    "print(course[-1]) #---> s\n",
    "print(course[0:3]) # second one will be execulded means 3 index letter will be exclude -->pyt\n",
    "print(course[3:]) #from third index to ownwards ---> hon for beginners\n",
    "print(course[:8]) # -->python f\n"
   ]
  },
  {
   "cell_type": "markdown",
   "id": "9f97384a",
   "metadata": {},
   "source": [
    "\n",
    "# FORMATED STRING"
   ]
  },
  {
   "cell_type": "code",
   "execution_count": 30,
   "id": "a155c3fe",
   "metadata": {},
   "outputs": [
    {
     "name": "stdout",
     "output_type": "stream",
     "text": [
      "my name is  mehreen  and i am  22 years old\n",
      "My name is  mehreen \n"
     ]
    }
   ],
   "source": [
    "name = \" mehreen \"\n",
    "age = \" 22\"\n",
    "\n",
    "message = \"my name is {} and i am {} years old\".format(name,age)\n",
    "print(message)\n",
    "\n",
    "print(f\"My name is {name}\")"
   ]
  },
  {
   "cell_type": "code",
   "execution_count": null,
   "id": "1b5c96fc",
   "metadata": {},
   "outputs": [],
   "source": []
  }
 ],
 "metadata": {
  "kernelspec": {
   "display_name": "Python 3 (ipykernel)",
   "language": "python",
   "name": "python3"
  },
  "language_info": {
   "codemirror_mode": {
    "name": "ipython",
    "version": 3
   },
   "file_extension": ".py",
   "mimetype": "text/x-python",
   "name": "python",
   "nbconvert_exporter": "python",
   "pygments_lexer": "ipython3",
   "version": "3.11.5"
  }
 },
 "nbformat": 4,
 "nbformat_minor": 5
}
