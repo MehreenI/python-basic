{
 "cells": [
  {
   "cell_type": "code",
   "execution_count": 2,
   "id": "f7ca83e4",
   "metadata": {},
   "outputs": [],
   "source": [
    "mylst = [\"mehreen\",\"sana\",\"marium\"]"
   ]
  },
  {
   "cell_type": "code",
   "execution_count": 3,
   "id": "c7a2b94f",
   "metadata": {},
   "outputs": [
    {
     "name": "stdout",
     "output_type": "stream",
     "text": [
      "['mehreen', 'sana', 'marium']\n"
     ]
    }
   ],
   "source": [
    "print(mylst)"
   ]
  },
  {
   "cell_type": "code",
   "execution_count": 4,
   "id": "c2190590",
   "metadata": {},
   "outputs": [
    {
     "name": "stdout",
     "output_type": "stream",
     "text": [
      "sana\n"
     ]
    }
   ],
   "source": [
    "print(mylst[-2])"
   ]
  },
  {
   "cell_type": "code",
   "execution_count": 6,
   "id": "f241f010",
   "metadata": {},
   "outputs": [
    {
     "name": "stdout",
     "output_type": "stream",
     "text": [
      "['sana']\n"
     ]
    }
   ],
   "source": [
    "print(mylst[1:2])"
   ]
  },
  {
   "cell_type": "code",
   "execution_count": 7,
   "id": "84128a65",
   "metadata": {},
   "outputs": [],
   "source": [
    "mylst.append(\"sumiya\")\n",
    "mylst.append(\"mehak\")\n",
    "mylst.append(\"alisba\")"
   ]
  },
  {
   "cell_type": "code",
   "execution_count": 8,
   "id": "f99ad13c",
   "metadata": {},
   "outputs": [
    {
     "name": "stdout",
     "output_type": "stream",
     "text": [
      "['mehreen', 'sana', 'marium', 'sumiya', 'mehak', 'alisba']\n"
     ]
    }
   ],
   "source": [
    "print(mylst)"
   ]
  },
  {
   "cell_type": "code",
   "execution_count": 9,
   "id": "fedf76f8",
   "metadata": {},
   "outputs": [
    {
     "name": "stdout",
     "output_type": "stream",
     "text": [
      "['marium', 'sumiya', 'mehak', 'alisba']\n"
     ]
    }
   ],
   "source": [
    "print(mylst[2:])"
   ]
  },
  {
   "cell_type": "code",
   "execution_count": 10,
   "id": "c3693594",
   "metadata": {},
   "outputs": [
    {
     "name": "stdout",
     "output_type": "stream",
     "text": [
      "['urooj', 'sana', 'marium', 'sumiya', 'mehak', 'alisba']\n"
     ]
    }
   ],
   "source": [
    "# CHANGING LIST ELEMENT \n",
    "mylst[0] = \"urooj\"\n",
    "print(mylst)"
   ]
  },
  {
   "cell_type": "code",
   "execution_count": 12,
   "id": "0f40be8b",
   "metadata": {},
   "outputs": [
    {
     "name": "stdout",
     "output_type": "stream",
     "text": [
      "The hghest number in list is15\n"
     ]
    }
   ],
   "source": [
    "# FIND THE LARGEST NUMBER IN THE LIST\n",
    "numbers = [3,9,5,15,2,4]\n",
    "max = numbers[0]\n",
    "for number in numbers:\n",
    "    if max < number:\n",
    "        max = number\n",
    "print(f\"The highest number in list is {max}\")"
   ]
  },
  {
   "cell_type": "markdown",
   "id": "007bc9c7",
   "metadata": {},
   "source": [
    "\n",
    "# 2D LIST ---> MATRIX\n"
   ]
  },
  {
   "cell_type": "code",
   "execution_count": 16,
   "id": "a8728b21",
   "metadata": {},
   "outputs": [
    {
     "name": "stdout",
     "output_type": "stream",
     "text": [
      "[[2, 3, 4], [5, 6, 7], [8, 9, 10]]\n"
     ]
    }
   ],
   "source": [
    "matrix = [\n",
    "    [2,3,4],\n",
    "    [5,6,7],\n",
    "    [8,9,10]\n",
    "]\n",
    "matrix2 = [\n",
    "    [1,2,4],\n",
    "    [5,6,7],\n",
    "    [8,9,100]\n",
    "]\n",
    "\n",
    "print(matrix)"
   ]
  },
  {
   "cell_type": "code",
   "execution_count": 17,
   "id": "26357b6c",
   "metadata": {},
   "outputs": [
    {
     "name": "stdout",
     "output_type": "stream",
     "text": [
      "[1, 3, 4, 5, 6, 7, 8, 22]\n"
     ]
    }
   ],
   "source": [
    "# remove duplicate number\n",
    "mynum = [1,4,6,8,3,22,4,1,4,7,4,5]\n",
    "\n",
    "unique = []\n",
    "\n",
    "for i in mynum:\n",
    "    if  i not in unique:\n",
    "        unique.append(i)\n",
    "mynum.sort()\n",
    "print(mynum)\n",
    "unique.sort()\n",
    "print(unique)"
   ]
  },
  {
   "cell_type": "code",
   "execution_count": null,
   "id": "2b13a8b2",
   "metadata": {},
   "outputs": [],
   "source": []
  }
 ],
 "metadata": {
  "kernelspec": {
   "display_name": "Python 3 (ipykernel)",
   "language": "python",
   "name": "python3"
  },
  "language_info": {
   "codemirror_mode": {
    "name": "ipython",
    "version": 3
   },
   "file_extension": ".py",
   "mimetype": "text/x-python",
   "name": "python",
   "nbconvert_exporter": "python",
   "pygments_lexer": "ipython3",
   "version": "3.11.5"
  }
 },
 "nbformat": 4,
 "nbformat_minor": 5
}
