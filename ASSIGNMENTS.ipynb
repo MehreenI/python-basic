{
 "cells": [
  {
   "cell_type": "markdown",
   "id": "d427975e",
   "metadata": {},
   "source": [
    "<h1 style = \"text-align:center;color:red; text-transform:uppercase;padding:20px;\">ASSIGNMENTS</h1>"
   ]
  },
  {
   "cell_type": "markdown",
   "id": "74d623ea",
   "metadata": {},
   "source": [
    "<h2 style=\"color:navy;\">ASSIGNMENT - 1</h2>"
   ]
  },
  {
   "cell_type": "code",
   "execution_count": 9,
   "id": "db78da30",
   "metadata": {},
   "outputs": [
    {
     "name": "stdout",
     "output_type": "stream",
     "text": [
      "{50, 20, 40, 10, 30} \n",
      " {50, 70, 40, 60, 30}\n",
      "{20, 70, 10, 60}\n"
     ]
    }
   ],
   "source": [
    "set1 = {10, 20, 30, 40, 50}\n",
    "set2 = {30, 40, 50, 60, 70}\n",
    "# unique = []\n",
    "\n",
    "# for i in set1:\n",
    "#     for j in set2:\n",
    "#         if i not in j :\n",
    "#             unique.append(i)\n",
    "#         elif j not in i:\n",
    "#             unique.append(j)\n",
    "# print(unique)\n",
    "\n",
    "unique = set1 ^ set2\n",
    "print(unique)"
   ]
  },
  {
   "cell_type": "markdown",
   "id": "62f3a30a",
   "metadata": {},
   "source": [
    "<h2 style=\"color:navy;\">ASSIGNMENT - 2</h2>"
   ]
  },
  {
   "cell_type": "code",
   "execution_count": 4,
   "id": "90d6b0a5",
   "metadata": {},
   "outputs": [
    {
     "name": "stdout",
     "output_type": "stream",
     "text": [
      "Enter Number: 10\n",
      "0 1 1 2 3 5 8 13 21 34 55 89 "
     ]
    }
   ],
   "source": [
    "num = int(input(\"Enter Number: \"))\n",
    "num1 = 0 \n",
    "num2 = 1\n",
    "print(num1 , end=\" \")\n",
    "print(num2, end = \" \")\n",
    "for i in range(num):\n",
    "    new_num = num1 + num2\n",
    "    num1 = num2\n",
    "    num2 = new_num\n",
    "    print(num2,end =\" \")"
   ]
  },
  {
   "cell_type": "code",
   "execution_count": null,
   "id": "9ca9805a",
   "metadata": {},
   "outputs": [],
   "source": []
  }
 ],
 "metadata": {
  "kernelspec": {
   "display_name": "Python 3 (ipykernel)",
   "language": "python",
   "name": "python3"
  },
  "language_info": {
   "codemirror_mode": {
    "name": "ipython",
    "version": 3
   },
   "file_extension": ".py",
   "mimetype": "text/x-python",
   "name": "python",
   "nbconvert_exporter": "python",
   "pygments_lexer": "ipython3",
   "version": "3.11.5"
  }
 },
 "nbformat": 4,
 "nbformat_minor": 5
}
